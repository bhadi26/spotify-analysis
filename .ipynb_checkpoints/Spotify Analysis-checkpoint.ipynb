{
 "cells": [
  {
   "cell_type": "markdown",
   "metadata": {},
   "source": [
    "## Notebook Objectives"
   ]
  },
  {
   "cell_type": "markdown",
   "metadata": {},
   "source": [
    "Holy data structures, batman.  As a new Pythonista, I find myself in a state of bewilderment about all these data structures I haven't worked with. Lists. Tuples. Dictionaries. Oh my. \n",
    "\n",
    "Lately, I've been reading the amazing book, \"Python for Everybody\"[https://www.py4e.com] by Charles Severance.  One of the chapter goes into detail about Python dictionaries and how they are useful for counting.  I'm also a lover of music, so what better application of a Python dictionary than playing with some data from Spotify!  \n",
    "\n",
    "\n",
    "My objectives are as follows: \n",
    "1. Use Spotify's API to export data\n",
    "2. Work with a Python dictionary to learn more about the data structure and produce a visualization of the results"
   ]
  },
  {
   "cell_type": "markdown",
   "metadata": {},
   "source": [
    "### Notebook Conclusions"
   ]
  },
  {
   "cell_type": "code",
   "execution_count": null,
   "metadata": {},
   "outputs": [],
   "source": []
  },
  {
   "cell_type": "markdown",
   "metadata": {},
   "source": [
    "### Imports"
   ]
  },
  {
   "cell_type": "code",
   "execution_count": 72,
   "metadata": {},
   "outputs": [],
   "source": [
    "import numpy as np\n",
    "import pandas as pd\n",
    "import matplotlib.pyplot as plt\n",
    "import os\n",
    "import seaborn as sns\n",
    "# import ggplot as gg\n",
    "from statsmodels.stats.proportion import proportions_ztest\n",
    "from scipy import stats\n",
    "import spotipy\n",
    "import spotipy.util as util\n",
    "import sys\n",
    "from collections import OrderedDict\n",
    "from datetime import date"
   ]
  },
  {
   "cell_type": "markdown",
   "metadata": {},
   "source": [
    "### Spotify API "
   ]
  },
  {
   "cell_type": "markdown",
   "metadata": {},
   "source": [
    "It appears that the Spotify API requires authorization for all requests (even those not tied to a user account). So I need to go through the OAuth process to pull data. "
   ]
  },
  {
   "cell_type": "markdown",
   "metadata": {},
   "source": [
    "First, I need to set up my client id, cleint secret, and redirect URL as strings. In my bash_profile, I set the client ID & client secret as enviroment variables. I decided to assign the redirect_uri locally so that I could experiment with that value if I'd like. "
   ]
  },
  {
   "cell_type": "code",
   "execution_count": 73,
   "metadata": {},
   "outputs": [],
   "source": [
    "client_id = os.environ.get(\"SPOTIPY_CLIENT_ID\")\n",
    "client_secret = os.environ.get(\"SPOTIPY_CLIENT_SECRET\")\n",
    "redirect_uri = 'http://localhost:8888/callback/'"
   ]
  },
  {
   "cell_type": "markdown",
   "metadata": {},
   "source": [
    "Depending on which data we are trying to access, we need to specify a scope to pass to the token.  Spotify has documentaiton on which scopes are relevant to each function. "
   ]
  },
  {
   "cell_type": "code",
   "execution_count": 74,
   "metadata": {},
   "outputs": [],
   "source": [
    "scope = 'user-top-read'"
   ]
  },
  {
   "cell_type": "markdown",
   "metadata": {},
   "source": [
    "This is where the authorization happens with Spotify.  It was a bit clunky for my first authorization, it prompted me to paste the redirect_uri into jupyter before fully authenitcating.  It was very satisfying to have the Spotify window pop up and ask to verify credentails.  Also shout out to my wonderful husband for letting me use his Spotify account for developer purposes, as I forgot the password to my account. "
   ]
  },
  {
   "cell_type": "code",
   "execution_count": 75,
   "metadata": {},
   "outputs": [
    {
     "name": "stdout",
     "output_type": "stream",
     "text": [
      "Enter spotify email: alirezhadi@gmail.com\n"
     ]
    }
   ],
   "source": [
    "username = input(\"Enter spotify email: \")"
   ]
  },
  {
   "cell_type": "code",
   "execution_count": 107,
   "metadata": {},
   "outputs": [],
   "source": [
    "token = util.prompt_for_user_token(username,scope,client_id,client_secret,redirect_uri)"
   ]
  },
  {
   "cell_type": "code",
   "execution_count": 78,
   "metadata": {},
   "outputs": [],
   "source": [
    "# print(token) "
   ]
  },
  {
   "cell_type": "markdown",
   "metadata": {},
   "source": [
    "Let's actually pull data! First, we need to pass our token to Spotify.  Then, we specify a list of ranges that we can pass to the current_user_top_artists function.    This code was modelled of this example[https://github.com/plamere/spotipy/blob/master/examples/my_top_artists.py]. "
   ]
  },
  {
   "cell_type": "code",
   "execution_count": 108,
   "metadata": {
    "scrolled": true
   },
   "outputs": [
    {
     "name": "stdout",
     "output_type": "stream",
     "text": [
      "range: short_term\n",
      "0 Four Tet\n",
      "1 Brand New\n",
      "2 Death Cab for Cutie\n",
      "3 Above & Beyond\n",
      "4 Notaker\n",
      "5 Space Jesus\n",
      "6 JOYRYDE\n",
      "7 deadmau5\n",
      "8 Boards of Canada\n",
      "9 My Morning Jacket\n",
      "range: medium_term\n",
      "0 Andrew Bird\n",
      "1 Biosphere\n",
      "2 Sigur Rós\n",
      "3 Loscil\n",
      "4 deadmau5\n",
      "5 Ramin Djawadi\n",
      "6 Four Tet\n",
      "7 Ensemble Economique\n",
      "8 Jon Hopkins\n",
      "9 Shlohmo\n",
      "10 Brian Eno\n",
      "11 Lawrence English\n",
      "12 DIIV\n",
      "13 Moby\n",
      "14 Virtual Self\n",
      "15 Bing & Ruth\n",
      "16 Above & Beyond\n",
      "17 TOKiMONSTA\n",
      "18 James Newton Howard\n",
      "19 Shakey Graves\n",
      "20 Alex Somers\n",
      "21 Si Begg\n",
      "22 Mat Zo\n",
      "23 Hans Zimmer\n",
      "24 Cirez D\n",
      "25 Frightened Rabbit\n",
      "26 Rutger Zuydervelt\n",
      "27 Flying Lotus\n",
      "28 My Morning Jacket\n",
      "29 Skee Mask\n",
      "30 Pryda\n",
      "31 ATTLAS\n",
      "32 Midnight Tyrannosaurus\n",
      "33 Freescha\n",
      "34 Lee Noble\n",
      "35 Machinefabriek\n",
      "36 Bernard Herrmann\n",
      "37 This Will Destroy You\n",
      "38 Murcof\n",
      "39 Brian McBride\n",
      "40 ZHU\n",
      "41 Norm Chambers\n",
      "42 Brand New\n",
      "43 No Mana\n",
      "44 Heyz\n",
      "45 Bonobo\n",
      "46 Do Make Say Think\n",
      "47 Rezz\n",
      "48 Ochre\n",
      "49 Hammock\n",
      "range: long_term\n",
      "0 Sigur Rós\n",
      "1 36\n",
      "2 Nine Inch Nails\n",
      "3 Carbon Based Lifeforms\n",
      "4 Matt Lange\n",
      "5 Loscil\n",
      "6 Andrew Bird\n",
      "7 Ramin Djawadi\n",
      "8 Alex Somers\n",
      "9 Shlohmo\n",
      "10 Above & Beyond\n",
      "11 Fleetwood Mac\n",
      "12 Johnny Jewel\n",
      "13 Skee Mask\n",
      "14 Cluster\n",
      "15 Biosphere\n",
      "16 deadmau5\n",
      "17 Four Tet\n",
      "18 Jon Hopkins\n",
      "19 LCD Soundsystem\n",
      "20 Moby\n",
      "21 Ensemble Economique\n",
      "22 Clint Mansell\n",
      "23 Death Cab for Cutie\n",
      "24 Tim Hecker\n",
      "25 Orbital\n",
      "26 Bing & Ruth\n",
      "27 This Will Destroy You\n",
      "28 Boards of Canada\n",
      "29 The Postal Service\n",
      "30 Bicep\n",
      "31 Hans Zimmer\n",
      "32 Tycho\n",
      "33 Elskavon\n",
      "34 Howard Shore\n",
      "35 Lawrence English\n",
      "36 Ferry Corsten\n",
      "37 The Album Leaf\n",
      "38 Ex Confusion\n",
      "39 Mogwai\n",
      "40 BlackGummy\n",
      "41 DIIV\n",
      "42 Trent Reznor and Atticus Ross\n",
      "43 Rezz\n",
      "44 Kyle Dixon & Michael Stein\n",
      "45 John Fahey\n",
      "46 Brian Eno\n",
      "47 The American Dollar\n",
      "48 Bob Dylan\n",
      "49 Balam Acab\n"
     ]
    }
   ],
   "source": [
    "sp = spotipy.Spotify(auth=token)\n",
    "sp.trace = False\n",
    "ranges = ['short_term', 'medium_term', 'long_term']\n",
    "for range in ranges:\n",
    "    print(\"range:\", range)\n",
    "    results = sp.current_user_top_artists(time_range=range, limit=50)\n",
    "    for i, item in enumerate(results['items']):\n",
    "        print(i, item['name'])\n",
    "        print"
   ]
  },
  {
   "cell_type": "markdown",
   "metadata": {},
   "source": [
    "Nice! The for loop printed the ranking and artist name for the three time ranges.  This format isn't super consumable, so let's do some work. "
   ]
  },
  {
   "cell_type": "code",
   "execution_count": 80,
   "metadata": {
    "scrolled": true
   },
   "outputs": [
    {
     "data": {
      "text/plain": [
       "dict"
      ]
     },
     "execution_count": 80,
     "metadata": {},
     "output_type": "execute_result"
    }
   ],
   "source": [
    "type(results) # check type of output"
   ]
  },
  {
   "cell_type": "markdown",
   "metadata": {},
   "source": [
    "Here we see that the type of 'results' is a dictionary.  A Python dictionary is made up of key-value pairs. "
   ]
  },
  {
   "cell_type": "markdown",
   "metadata": {},
   "source": [
    "I like working with data frames. I would like to construct a data frame that contains the range as a column and has artists for all three ranges. I will need to do additinal work to extract the genre data. Because I have three ranges, I will write a function, then call it, passing the string for each time range.  This could also probably be done via a for loop."
   ]
  },
  {
   "cell_type": "code",
   "execution_count": 152,
   "metadata": {},
   "outputs": [
    {
     "name": "stdout",
     "output_type": "stream",
     "text": [
      "['short_term', 'medium_term', 'long_term']\n"
     ]
    }
   ],
   "source": [
    "ranges = ['short_term','medium_term','long_term']\n",
    "print(ranges)"
   ]
  },
  {
   "cell_type": "code",
   "execution_count": 146,
   "metadata": {},
   "outputs": [
    {
     "name": "stdout",
     "output_type": "stream",
     "text": [
      "short_term\n",
      "medium_term\n",
      "long_term\n"
     ]
    }
   ],
   "source": [
    "for i in range(3):\n",
    "    print(ranges[i])"
   ]
  },
  {
   "cell_type": "code",
   "execution_count": 148,
   "metadata": {},
   "outputs": [
    {
     "name": "stdout",
     "output_type": "stream",
     "text": [
      "short_term\n",
      "medium_term\n",
      "long_term\n"
     ]
    }
   ],
   "source": [
    "for i in range(3):\n",
    "    print(ranges[i])\n",
    "    spot_dict =  sp.current_user_top_artists(time_range=ranges[i], limit=50)\n",
    "    df_i = pd.DataFrame(spot_dict['items'])\n",
    "    df_i = df1.assign(time_ranges = ranges) \n",
    "    #print(\"df done\")"
   ]
  },
  {
   "cell_type": "code",
   "execution_count": 165,
   "metadata": {},
   "outputs": [
    {
     "name": "stdout",
     "output_type": "stream",
     "text": [
      "short_term\n",
      "medium_term\n",
      "long_term\n",
      "done!\n"
     ]
    }
   ],
   "source": [
    "d = {}\n",
    "for term in ranges:\n",
    "    print(term)\n",
    "    spot_dict =  sp.current_user_top_artists(time_range=term, limit=50)\n",
    "    df = pd.DataFrame(spot_dict['items'])\n",
    "    df = df.assign(time_ranges = term)\n",
    "    d[term] = df\n",
    "print(\"done!\")"
   ]
  },
  {
   "cell_type": "code",
   "execution_count": 156,
   "metadata": {},
   "outputs": [
    {
     "data": {
      "text/html": [
       "<div>\n",
       "<style scoped>\n",
       "    .dataframe tbody tr th:only-of-type {\n",
       "        vertical-align: middle;\n",
       "    }\n",
       "\n",
       "    .dataframe tbody tr th {\n",
       "        vertical-align: top;\n",
       "    }\n",
       "\n",
       "    .dataframe thead th {\n",
       "        text-align: right;\n",
       "    }\n",
       "</style>\n",
       "<table border=\"1\" class=\"dataframe\">\n",
       "  <thead>\n",
       "    <tr style=\"text-align: right;\">\n",
       "      <th></th>\n",
       "      <th>external_urls</th>\n",
       "      <th>followers</th>\n",
       "      <th>genres</th>\n",
       "      <th>href</th>\n",
       "      <th>id</th>\n",
       "      <th>images</th>\n",
       "      <th>name</th>\n",
       "      <th>popularity</th>\n",
       "      <th>type</th>\n",
       "      <th>uri</th>\n",
       "      <th>time_ranges</th>\n",
       "    </tr>\n",
       "  </thead>\n",
       "  <tbody>\n",
       "    <tr>\n",
       "      <th>0</th>\n",
       "      <td>{'spotify': 'https://open.spotify.com/artist/7...</td>\n",
       "      <td>{'href': None, 'total': 275925}</td>\n",
       "      <td>[alternative dance, chamber psych, electronic,...</td>\n",
       "      <td>https://api.spotify.com/v1/artists/7Eu1txygG6n...</td>\n",
       "      <td>7Eu1txygG6nJttLHbZdQOh</td>\n",
       "      <td>[{'height': 640, 'url': 'https://i.scdn.co/ima...</td>\n",
       "      <td>Four Tet</td>\n",
       "      <td>63</td>\n",
       "      <td>artist</td>\n",
       "      <td>spotify:artist:7Eu1txygG6nJttLHbZdQOh</td>\n",
       "      <td>short_term</td>\n",
       "    </tr>\n",
       "    <tr>\n",
       "      <th>1</th>\n",
       "      <td>{'spotify': 'https://open.spotify.com/artist/1...</td>\n",
       "      <td>{'href': None, 'total': 472440}</td>\n",
       "      <td>[pop punk]</td>\n",
       "      <td>https://api.spotify.com/v1/artists/168dgYui7Ex...</td>\n",
       "      <td>168dgYui7ExaU612eooDF1</td>\n",
       "      <td>[{'height': 640, 'url': 'https://i.scdn.co/ima...</td>\n",
       "      <td>Brand New</td>\n",
       "      <td>63</td>\n",
       "      <td>artist</td>\n",
       "      <td>spotify:artist:168dgYui7ExaU612eooDF1</td>\n",
       "      <td>short_term</td>\n",
       "    </tr>\n",
       "    <tr>\n",
       "      <th>2</th>\n",
       "      <td>{'spotify': 'https://open.spotify.com/artist/0...</td>\n",
       "      <td>{'href': None, 'total': 917663}</td>\n",
       "      <td>[chamber pop, folk-pop, indie folk, indie pop,...</td>\n",
       "      <td>https://api.spotify.com/v1/artists/0YrtvWJMgSd...</td>\n",
       "      <td>0YrtvWJMgSdVrk3SfNjTbx</td>\n",
       "      <td>[{'height': 640, 'url': 'https://i.scdn.co/ima...</td>\n",
       "      <td>Death Cab for Cutie</td>\n",
       "      <td>70</td>\n",
       "      <td>artist</td>\n",
       "      <td>spotify:artist:0YrtvWJMgSdVrk3SfNjTbx</td>\n",
       "      <td>short_term</td>\n",
       "    </tr>\n",
       "    <tr>\n",
       "      <th>3</th>\n",
       "      <td>{'spotify': 'https://open.spotify.com/artist/1...</td>\n",
       "      <td>{'href': None, 'total': 442284}</td>\n",
       "      <td>[edm, progressive house, progressive trance, t...</td>\n",
       "      <td>https://api.spotify.com/v1/artists/10gzBoINW3c...</td>\n",
       "      <td>10gzBoINW3cLJfZUka8Zoe</td>\n",
       "      <td>[{'height': 640, 'url': 'https://i.scdn.co/ima...</td>\n",
       "      <td>Above &amp; Beyond</td>\n",
       "      <td>68</td>\n",
       "      <td>artist</td>\n",
       "      <td>spotify:artist:10gzBoINW3cLJfZUka8Zoe</td>\n",
       "      <td>short_term</td>\n",
       "    </tr>\n",
       "    <tr>\n",
       "      <th>4</th>\n",
       "      <td>{'spotify': 'https://open.spotify.com/artist/0...</td>\n",
       "      <td>{'href': None, 'total': 10505}</td>\n",
       "      <td>[catstep, chillstep, complextro, edm, electro ...</td>\n",
       "      <td>https://api.spotify.com/v1/artists/0I7HgbIetYE...</td>\n",
       "      <td>0I7HgbIetYEIweWq7nD6En</td>\n",
       "      <td>[{'height': 640, 'url': 'https://i.scdn.co/ima...</td>\n",
       "      <td>Notaker</td>\n",
       "      <td>45</td>\n",
       "      <td>artist</td>\n",
       "      <td>spotify:artist:0I7HgbIetYEIweWq7nD6En</td>\n",
       "      <td>short_term</td>\n",
       "    </tr>\n",
       "    <tr>\n",
       "      <th>5</th>\n",
       "      <td>{'spotify': 'https://open.spotify.com/artist/5...</td>\n",
       "      <td>{'href': None, 'total': 36360}</td>\n",
       "      <td>[brostep, edm, electro house, electronic trap]</td>\n",
       "      <td>https://api.spotify.com/v1/artists/5AoXSiM511L...</td>\n",
       "      <td>5AoXSiM511L4To0AN5oZVB</td>\n",
       "      <td>[{'height': 1000, 'url': 'https://i.scdn.co/im...</td>\n",
       "      <td>Space Jesus</td>\n",
       "      <td>52</td>\n",
       "      <td>artist</td>\n",
       "      <td>spotify:artist:5AoXSiM511L4To0AN5oZVB</td>\n",
       "      <td>short_term</td>\n",
       "    </tr>\n",
       "    <tr>\n",
       "      <th>6</th>\n",
       "      <td>{'spotify': 'https://open.spotify.com/artist/2...</td>\n",
       "      <td>{'href': None, 'total': 69950}</td>\n",
       "      <td>[brostep, edm, electro house, electronic trap,...</td>\n",
       "      <td>https://api.spotify.com/v1/artists/24neLwyYRyj...</td>\n",
       "      <td>24neLwyYRyj4ItaGnFeIT0</td>\n",
       "      <td>[{'height': 640, 'url': 'https://i.scdn.co/ima...</td>\n",
       "      <td>JOYRYDE</td>\n",
       "      <td>59</td>\n",
       "      <td>artist</td>\n",
       "      <td>spotify:artist:24neLwyYRyj4ItaGnFeIT0</td>\n",
       "      <td>short_term</td>\n",
       "    </tr>\n",
       "    <tr>\n",
       "      <th>7</th>\n",
       "      <td>{'spotify': 'https://open.spotify.com/artist/2...</td>\n",
       "      <td>{'href': None, 'total': 2104734}</td>\n",
       "      <td>[big room, edm, electro house, progressive house]</td>\n",
       "      <td>https://api.spotify.com/v1/artists/2CIMQHirSU0...</td>\n",
       "      <td>2CIMQHirSU0MQqyYHq0eOx</td>\n",
       "      <td>[{'height': 640, 'url': 'https://i.scdn.co/ima...</td>\n",
       "      <td>deadmau5</td>\n",
       "      <td>70</td>\n",
       "      <td>artist</td>\n",
       "      <td>spotify:artist:2CIMQHirSU0MQqyYHq0eOx</td>\n",
       "      <td>short_term</td>\n",
       "    </tr>\n",
       "    <tr>\n",
       "      <th>8</th>\n",
       "      <td>{'spotify': 'https://open.spotify.com/artist/2...</td>\n",
       "      <td>{'href': None, 'total': 260037}</td>\n",
       "      <td>[ambient, electronic, fourth world, indietroni...</td>\n",
       "      <td>https://api.spotify.com/v1/artists/2VAvhf61GgL...</td>\n",
       "      <td>2VAvhf61GgLYmC6C8anyX1</td>\n",
       "      <td>[{'height': 902, 'url': 'https://i.scdn.co/ima...</td>\n",
       "      <td>Boards of Canada</td>\n",
       "      <td>59</td>\n",
       "      <td>artist</td>\n",
       "      <td>spotify:artist:2VAvhf61GgLYmC6C8anyX1</td>\n",
       "      <td>short_term</td>\n",
       "    </tr>\n",
       "    <tr>\n",
       "      <th>9</th>\n",
       "      <td>{'spotify': 'https://open.spotify.com/artist/4...</td>\n",
       "      <td>{'href': None, 'total': 302025}</td>\n",
       "      <td>[alternative country, alternative rock, folk-p...</td>\n",
       "      <td>https://api.spotify.com/v1/artists/43O3c6wewpz...</td>\n",
       "      <td>43O3c6wewpzPKwVaGEEtBM</td>\n",
       "      <td>[{'height': 672, 'url': 'https://i.scdn.co/ima...</td>\n",
       "      <td>My Morning Jacket</td>\n",
       "      <td>58</td>\n",
       "      <td>artist</td>\n",
       "      <td>spotify:artist:43O3c6wewpzPKwVaGEEtBM</td>\n",
       "      <td>short_term</td>\n",
       "    </tr>\n",
       "  </tbody>\n",
       "</table>\n",
       "</div>"
      ],
      "text/plain": [
       "                                       external_urls  \\\n",
       "0  {'spotify': 'https://open.spotify.com/artist/7...   \n",
       "1  {'spotify': 'https://open.spotify.com/artist/1...   \n",
       "2  {'spotify': 'https://open.spotify.com/artist/0...   \n",
       "3  {'spotify': 'https://open.spotify.com/artist/1...   \n",
       "4  {'spotify': 'https://open.spotify.com/artist/0...   \n",
       "5  {'spotify': 'https://open.spotify.com/artist/5...   \n",
       "6  {'spotify': 'https://open.spotify.com/artist/2...   \n",
       "7  {'spotify': 'https://open.spotify.com/artist/2...   \n",
       "8  {'spotify': 'https://open.spotify.com/artist/2...   \n",
       "9  {'spotify': 'https://open.spotify.com/artist/4...   \n",
       "\n",
       "                          followers  \\\n",
       "0   {'href': None, 'total': 275925}   \n",
       "1   {'href': None, 'total': 472440}   \n",
       "2   {'href': None, 'total': 917663}   \n",
       "3   {'href': None, 'total': 442284}   \n",
       "4    {'href': None, 'total': 10505}   \n",
       "5    {'href': None, 'total': 36360}   \n",
       "6    {'href': None, 'total': 69950}   \n",
       "7  {'href': None, 'total': 2104734}   \n",
       "8   {'href': None, 'total': 260037}   \n",
       "9   {'href': None, 'total': 302025}   \n",
       "\n",
       "                                              genres  \\\n",
       "0  [alternative dance, chamber psych, electronic,...   \n",
       "1                                         [pop punk]   \n",
       "2  [chamber pop, folk-pop, indie folk, indie pop,...   \n",
       "3  [edm, progressive house, progressive trance, t...   \n",
       "4  [catstep, chillstep, complextro, edm, electro ...   \n",
       "5     [brostep, edm, electro house, electronic trap]   \n",
       "6  [brostep, edm, electro house, electronic trap,...   \n",
       "7  [big room, edm, electro house, progressive house]   \n",
       "8  [ambient, electronic, fourth world, indietroni...   \n",
       "9  [alternative country, alternative rock, folk-p...   \n",
       "\n",
       "                                                href                      id  \\\n",
       "0  https://api.spotify.com/v1/artists/7Eu1txygG6n...  7Eu1txygG6nJttLHbZdQOh   \n",
       "1  https://api.spotify.com/v1/artists/168dgYui7Ex...  168dgYui7ExaU612eooDF1   \n",
       "2  https://api.spotify.com/v1/artists/0YrtvWJMgSd...  0YrtvWJMgSdVrk3SfNjTbx   \n",
       "3  https://api.spotify.com/v1/artists/10gzBoINW3c...  10gzBoINW3cLJfZUka8Zoe   \n",
       "4  https://api.spotify.com/v1/artists/0I7HgbIetYE...  0I7HgbIetYEIweWq7nD6En   \n",
       "5  https://api.spotify.com/v1/artists/5AoXSiM511L...  5AoXSiM511L4To0AN5oZVB   \n",
       "6  https://api.spotify.com/v1/artists/24neLwyYRyj...  24neLwyYRyj4ItaGnFeIT0   \n",
       "7  https://api.spotify.com/v1/artists/2CIMQHirSU0...  2CIMQHirSU0MQqyYHq0eOx   \n",
       "8  https://api.spotify.com/v1/artists/2VAvhf61GgL...  2VAvhf61GgLYmC6C8anyX1   \n",
       "9  https://api.spotify.com/v1/artists/43O3c6wewpz...  43O3c6wewpzPKwVaGEEtBM   \n",
       "\n",
       "                                              images                 name  \\\n",
       "0  [{'height': 640, 'url': 'https://i.scdn.co/ima...             Four Tet   \n",
       "1  [{'height': 640, 'url': 'https://i.scdn.co/ima...            Brand New   \n",
       "2  [{'height': 640, 'url': 'https://i.scdn.co/ima...  Death Cab for Cutie   \n",
       "3  [{'height': 640, 'url': 'https://i.scdn.co/ima...       Above & Beyond   \n",
       "4  [{'height': 640, 'url': 'https://i.scdn.co/ima...              Notaker   \n",
       "5  [{'height': 1000, 'url': 'https://i.scdn.co/im...          Space Jesus   \n",
       "6  [{'height': 640, 'url': 'https://i.scdn.co/ima...              JOYRYDE   \n",
       "7  [{'height': 640, 'url': 'https://i.scdn.co/ima...             deadmau5   \n",
       "8  [{'height': 902, 'url': 'https://i.scdn.co/ima...     Boards of Canada   \n",
       "9  [{'height': 672, 'url': 'https://i.scdn.co/ima...    My Morning Jacket   \n",
       "\n",
       "   popularity    type                                    uri time_ranges  \n",
       "0          63  artist  spotify:artist:7Eu1txygG6nJttLHbZdQOh  short_term  \n",
       "1          63  artist  spotify:artist:168dgYui7ExaU612eooDF1  short_term  \n",
       "2          70  artist  spotify:artist:0YrtvWJMgSdVrk3SfNjTbx  short_term  \n",
       "3          68  artist  spotify:artist:10gzBoINW3cLJfZUka8Zoe  short_term  \n",
       "4          45  artist  spotify:artist:0I7HgbIetYEIweWq7nD6En  short_term  \n",
       "5          52  artist  spotify:artist:5AoXSiM511L4To0AN5oZVB  short_term  \n",
       "6          59  artist  spotify:artist:24neLwyYRyj4ItaGnFeIT0  short_term  \n",
       "7          70  artist  spotify:artist:2CIMQHirSU0MQqyYHq0eOx  short_term  \n",
       "8          59  artist  spotify:artist:2VAvhf61GgLYmC6C8anyX1  short_term  \n",
       "9          58  artist  spotify:artist:43O3c6wewpzPKwVaGEEtBM  short_term  "
      ]
     },
     "execution_count": 156,
     "metadata": {},
     "output_type": "execute_result"
    }
   ],
   "source": [
    "d['short_term']"
   ]
  },
  {
   "cell_type": "code",
   "execution_count": 174,
   "metadata": {},
   "outputs": [],
   "source": [
    "def artist_plot(term):\n",
    "    df = d[term]\n",
    "    plt.bar(df['name'],df['popularity'])\n",
    "    plt.show()"
   ]
  },
  {
   "cell_type": "code",
   "execution_count": 175,
   "metadata": {
    "scrolled": true
   },
   "outputs": [
    {
     "data": {
      "image/png": "[encoded data removed]",
      "text/plain": [
       "<Figure size 432x288 with 1 Axes>"
      ]
     },
     "metadata": {
      "needs_background": "light"
     },
     "output_type": "display_data"
    }
   ],
   "source": [
    "artist_plot('short_term')"
   ]
  },
  {
   "cell_type": "code",
   "execution_count": 177,
   "metadata": {},
   "outputs": [
    {
     "data": {
      "image/png": "[encoded data removed]",
      "text/plain": [
       "<Figure size 432x288 with 1 Axes>"
      ]
     },
     "metadata": {
      "needs_background": "light"
     },
     "output_type": "display_data"
    }
   ],
   "source": [
    "artist_plot('medium_term')"
   ]
  },
  {
   "cell_type": "code",
   "execution_count": 176,
   "metadata": {
    "scrolled": true
   },
   "outputs": [
    {
     "data": {
      "image/png": "[encoded data removed]",
      "text/plain": [
       "<Figure size 432x288 with 1 Axes>"
      ]
     },
     "metadata": {
      "needs_background": "light"
     },
     "output_type": "display_data"
    }
   ],
   "source": [
    "artist_plot('long_term')"
   ]
  },
  {
   "cell_type": "code",
   "execution_count": 171,
   "metadata": {},
   "outputs": [
    {
     "ename": "TypeError",
     "evalue": "bar() missing 1 required positional argument: 'height'",
     "output_type": "error",
     "traceback": [
      "\u001b[0;31m---------------------------------------------------------------------------\u001b[0m",
      "\u001b[0;31mTypeError\u001b[0m                                 Traceback (most recent call last)",
      "\u001b[0;32m<ipython-input-171-2b9ffefeae25>\u001b[0m in \u001b[0;36m<module>\u001b[0;34m\u001b[0m\n\u001b[1;32m      1\u001b[0m \u001b[0mdf\u001b[0m \u001b[0;34m=\u001b[0m \u001b[0md\u001b[0m\u001b[0;34m[\u001b[0m\u001b[0;34m'short_term'\u001b[0m\u001b[0;34m]\u001b[0m\u001b[0;34m\u001b[0m\u001b[0m\n\u001b[0;32m----> 2\u001b[0;31m \u001b[0mplt\u001b[0m\u001b[0;34m.\u001b[0m\u001b[0mbar\u001b[0m\u001b[0;34m(\u001b[0m\u001b[0mx\u001b[0m\u001b[0;34m=\u001b[0m\u001b[0mdf\u001b[0m\u001b[0;34m.\u001b[0m\u001b[0mname\u001b[0m\u001b[0;34m,\u001b[0m \u001b[0my\u001b[0m\u001b[0;34m=\u001b[0m\u001b[0mdf\u001b[0m\u001b[0;34m.\u001b[0m\u001b[0mpopularity\u001b[0m\u001b[0;34m,\u001b[0m \u001b[0mdata\u001b[0m\u001b[0;34m=\u001b[0m\u001b[0mdf\u001b[0m\u001b[0;34m)\u001b[0m\u001b[0;34m\u001b[0m\u001b[0m\n\u001b[0m\u001b[1;32m      3\u001b[0m \u001b[0mplt\u001b[0m\u001b[0;34m.\u001b[0m\u001b[0mshow\u001b[0m\u001b[0;34m(\u001b[0m\u001b[0;34m)\u001b[0m\u001b[0;34m\u001b[0m\u001b[0m\n",
      "\u001b[0;31mTypeError\u001b[0m: bar() missing 1 required positional argument: 'height'"
     ]
    }
   ],
   "source": [
    "df = d['short_term']\n",
    "plt.bar(x=df.name, y=df.popularity, data=df)\n",
    "plt.show()"
   ]
  },
  {
   "cell_type": "code",
   "execution_count": 15,
   "metadata": {
    "scrolled": false
   },
   "outputs": [
    {
     "name": "stdout",
     "output_type": "stream",
     "text": [
      "Sigur Rós\n",
      "['bow pop', 'chamber pop', 'compositional ambient', 'dream pop', 'ethereal wave', 'icelandic pop', 'icelandic rock', 'indie folk', 'melancholia', 'post-rock']\n"
     ]
    }
   ],
   "source": [
    "print(results['items'][0][\"name\"])\n",
    "print(results['items'][0][\"genres\"])"
   ]
  },
  {
   "cell_type": "markdown",
   "metadata": {},
   "source": [
    "Python is quite the learning curve. The output I want is to cycle through each key-value pair in the results dictionary, extract the items list, then extract the key-value pairs for name & genre.  I want to story this output in a new dictionary where the key is the artist and the value is the list of genres.  For loops should be helpful for this task, but I will need to practice. "
   ]
  }
 ],
 "metadata": {
  "kernelspec": {
   "display_name": "Python 3",
   "language": "python",
   "name": "python3"
  },
  "language_info": {
   "codemirror_mode": {
    "name": "ipython",
    "version": 3
   },
   "file_extension": ".py",
   "mimetype": "text/x-python",
   "name": "python",
   "nbconvert_exporter": "python",
   "pygments_lexer": "ipython3",
   "version": "3.7.0"
  }
 },
 "nbformat": 4,
 "nbformat_minor": 2
}
