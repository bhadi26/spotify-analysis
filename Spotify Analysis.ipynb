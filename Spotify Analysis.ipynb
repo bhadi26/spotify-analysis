{
 "cells": [
  {
   "cell_type": "markdown",
   "metadata": {},
   "source": [
    "# Spotify Analysis"
   ]
  },
  {
   "cell_type": "markdown",
   "metadata": {},
   "source": [
    "## Notebook Objectives"
   ]
  },
  {
   "cell_type": "markdown",
   "metadata": {},
   "source": [
    "Holy data structures, batman.  As a new Pythonista, I find myself in a state of bewilderment about all these data structures I haven't worked with. Lists. Tuples. Dictionaries. Oh my. \n",
    "\n",
    "Lately, I've been reading the amazing book, \"Python for Everybody\"[https://www.py4e.com] by Charles Severance.  One of the chapter goes into detail about Python dictionaries and how they are useful for counting.  I'm also a lover of music, so what better application of a Python dictionary than playing with some data from Spotify!  \n",
    "\n",
    "\n",
    "My objectives are as follows: \n",
    "1. Use Spotify's API to export data\n",
    "2. Work with a Python dictionary to learn more about the data structure and produce a visualization of the results"
   ]
  },
  {
   "cell_type": "markdown",
   "metadata": {},
   "source": [
    "### Imports"
   ]
  },
  {
   "cell_type": "code",
   "execution_count": 2,
   "metadata": {},
   "outputs": [],
   "source": [
    "import numpy as np\n",
    "import pandas as pd\n",
    "import matplotlib.pyplot as plt\n",
    "import os\n",
    "import seaborn as sns\n",
    "# import ggplot as gg\n",
    "from statsmodels.stats.proportion import proportions_ztest\n",
    "from scipy import stats\n",
    "import spotipy\n",
    "import spotipy.util as util\n",
    "import sys\n",
    "from collections import OrderedDict\n",
    "from datetime import date"
   ]
  },
  {
   "cell_type": "markdown",
   "metadata": {},
   "source": [
    "### Spotify API "
   ]
  },
  {
   "cell_type": "markdown",
   "metadata": {},
   "source": [
    "It appears that the Spotify API requires authorization for all requests (even those not tied to a user account). So I need to go through the OAuth process to pull data. "
   ]
  },
  {
   "cell_type": "markdown",
   "metadata": {},
   "source": [
    "First, I need to set up my client id, cleint secret, and redirect URL as strings. In my bash_profile, I set the client ID & client secret as enviroment variables. I decided to assign the redirect_uri locally so that I could experiment with that value if I'd like. "
   ]
  },
  {
   "cell_type": "code",
   "execution_count": 3,
   "metadata": {},
   "outputs": [],
   "source": [
    "client_id = os.environ.get(\"SPOTIPY_CLIENT_ID\")\n",
    "client_secret = os.environ.get(\"SPOTIPY_CLIENT_SECRET\")\n",
    "redirect_uri = 'http://localhost:8888/callback/'"
   ]
  },
  {
   "cell_type": "markdown",
   "metadata": {},
   "source": [
    "Depending on which data we are trying to access, we need to specify a scope to pass to the token.  Spotify has documentaiton on which scopes are relevant to each function. "
   ]
  },
  {
   "cell_type": "code",
   "execution_count": 4,
   "metadata": {},
   "outputs": [],
   "source": [
    "scope = 'user-top-read'"
   ]
  },
  {
   "cell_type": "markdown",
   "metadata": {},
   "source": [
    "This is where the authorization happens with Spotify.  It was a bit clunky for my first authorization, it prompted me to paste the redirect_uri into jupyter before fully authenitcating.  It was very satisfying to have the Spotify window pop up and ask to verify credentails.  Also shout out to my wonderful husband for letting me use his Spotify account for developer purposes, as I forgot the password to my account. "
   ]
  },
  {
   "cell_type": "code",
   "execution_count": 5,
   "metadata": {},
   "outputs": [
    {
     "name": "stdout",
     "output_type": "stream",
     "text": [
      "Enter spotify email: alirezhadi@gmail.com\n"
     ]
    }
   ],
   "source": [
    "username = input(\"Enter spotify email: \")"
   ]
  },
  {
   "cell_type": "code",
   "execution_count": 6,
   "metadata": {},
   "outputs": [],
   "source": [
    "token = util.prompt_for_user_token(username,scope,client_id,client_secret,redirect_uri)"
   ]
  },
  {
   "cell_type": "code",
   "execution_count": 8,
   "metadata": {},
   "outputs": [
    {
     "name": "stdout",
     "output_type": "stream",
     "text": [
      "BQDK3zip9XVtJWxJAgCTGD3l4iWxye-dtrb0Bai5lfVmfcRuExWQV0JIBMg1mmBJ1LM0hMPDUxC3mULlSBdeKKh7FZe6LjBblw28R46P6Ru-sAP8GrDZlCfwk3BO4bltDuc_vkjr_Nik_Lxc36Le7MaA5aU\n"
     ]
    }
   ],
   "source": [
    "print(token) "
   ]
  },
  {
   "cell_type": "markdown",
   "metadata": {},
   "source": [
    "Let's actually pull data! First, we need to pass our token to Spotify.  Then, we specify a list of ranges that we can pass to the current_user_top_artists function.    This code was modelled of this example[https://github.com/plamere/spotipy/blob/master/examples/my_top_artists.py]. "
   ]
  },
  {
   "cell_type": "code",
   "execution_count": 9,
   "metadata": {
    "scrolled": true
   },
   "outputs": [
    {
     "name": "stdout",
     "output_type": "stream",
     "text": [
      "range: short_term\n",
      "0 Kraftwerk\n",
      "1 Hybrid Minds\n",
      "2 She & Him\n",
      "3 Ramin Djawadi\n",
      "4 Bon Iver\n",
      "5 Johnny Cash\n",
      "6 The Chemical Brothers\n",
      "7 CHVRCHES\n",
      "8 The Postal Service\n",
      "9 Dan Deacon\n",
      "10 Gui Boratto\n",
      "11 ZHU\n",
      "12 Kendrick Lamar\n",
      "13 High Contrast\n",
      "range: medium_term\n",
      "0 Kraftwerk\n",
      "1 Hybrid Minds\n",
      "2 Bon Iver\n",
      "3 She & Him\n",
      "4 Ramin Djawadi\n",
      "5 Shakey Graves\n",
      "6 Four Tet\n",
      "7 The Beatles\n",
      "8 Frightened Rabbit\n",
      "9 Above & Beyond\n",
      "10 My Morning Jacket\n",
      "11 Virtual Self\n",
      "12 ZHU\n",
      "13 Sigur Rós\n",
      "14 Ringo Starr\n",
      "15 Johnny Cash\n",
      "16 Brand New\n",
      "17 The Chemical Brothers\n",
      "18 Death Cab for Cutie\n",
      "19 Gui Boratto\n",
      "20 CHVRCHES\n",
      "21 Monsters Of Folk\n",
      "22 Jill Andrews\n",
      "23 Zeds Dead\n",
      "24 Big Red Machine\n",
      "25 Notaker\n",
      "26 Nora En Pure\n",
      "27 Andrew Lloyd Webber\n",
      "28 The Postal Service\n",
      "29 Jon Hopkins\n",
      "30 The Shins\n",
      "31 Paul McCartney\n",
      "32 John Lennon\n",
      "33 Space Jesus\n",
      "34 Dan Deacon\n",
      "35 Ex:Re\n",
      "36 Ilan Bluestone\n",
      "37 deadmau5\n",
      "38 Kendrick Lamar\n",
      "39 Moby\n",
      "40 Abelation\n",
      "41 Sufjan Stevens\n",
      "42 Liquid Stranger\n",
      "43 Alice Deejay\n",
      "44 JOYRYDE\n",
      "45 Skee Mask\n",
      "46 Ensemble Economique\n",
      "47 High Contrast\n",
      "48 Boards of Canada\n",
      "49 Langhorne Slim\n",
      "range: long_term\n",
      "0 Sigur Rós\n",
      "1 36\n",
      "2 Nine Inch Nails\n",
      "3 Carbon Based Lifeforms\n",
      "4 Matt Lange\n",
      "5 Loscil\n",
      "6 Andrew Bird\n",
      "7 Ramin Djawadi\n",
      "8 Alex Somers\n",
      "9 Shlohmo\n",
      "10 Above & Beyond\n",
      "11 Fleetwood Mac\n",
      "12 Johnny Jewel\n",
      "13 Skee Mask\n",
      "14 Cluster\n",
      "15 Biosphere\n",
      "16 deadmau5\n",
      "17 Four Tet\n",
      "18 Jon Hopkins\n",
      "19 LCD Soundsystem\n",
      "20 Moby\n",
      "21 Ensemble Economique\n",
      "22 Clint Mansell\n",
      "23 Death Cab for Cutie\n",
      "24 Tim Hecker\n",
      "25 Orbital\n",
      "26 The Postal Service\n",
      "27 Bing & Ruth\n",
      "28 This Will Destroy You\n",
      "29 Boards of Canada\n",
      "30 Bon Iver\n",
      "31 Bicep\n",
      "32 Hans Zimmer\n",
      "33 Tycho\n",
      "34 Elskavon\n",
      "35 Howard Shore\n",
      "36 Lawrence English\n",
      "37 Ferry Corsten\n",
      "38 The Album Leaf\n",
      "39 Ex Confusion\n",
      "40 Mogwai\n",
      "41 BlackGummy\n",
      "42 DIIV\n",
      "43 Trent Reznor and Atticus Ross\n",
      "44 Rezz\n",
      "45 Kyle Dixon & Michael Stein\n",
      "46 Johnny Cash\n",
      "47 She & Him\n",
      "48 John Fahey\n",
      "49 Brian Eno\n"
     ]
    }
   ],
   "source": [
    "sp = spotipy.Spotify(auth=token)\n",
    "sp.trace = False\n",
    "ranges = ['short_term', 'medium_term', 'long_term']\n",
    "for range in ranges:\n",
    "    print(\"range:\", range)\n",
    "    results = sp.current_user_top_artists(time_range=range, limit=50)\n",
    "    for i, item in enumerate(results['items']):\n",
    "        print(i, item['name'])\n",
    "        print"
   ]
  },
  {
   "cell_type": "markdown",
   "metadata": {},
   "source": [
    "Nice! The for loop printed the ranking and artist name for the three time ranges. My husband seems to be into Kraftwerk, lately!  This format isn't super consumable, so let's do some work. "
   ]
  },
  {
   "cell_type": "code",
   "execution_count": 10,
   "metadata": {
    "scrolled": true
   },
   "outputs": [
    {
     "data": {
      "text/plain": [
       "dict"
      ]
     },
     "execution_count": 10,
     "metadata": {},
     "output_type": "execute_result"
    }
   ],
   "source": [
    "type(results) # check type of output"
   ]
  },
  {
   "cell_type": "markdown",
   "metadata": {},
   "source": [
    "Here we see that the type of 'results' is a dictionary.  A Python dictionary is made up of key-value pairs. "
   ]
  },
  {
   "cell_type": "markdown",
   "metadata": {},
   "source": [
    "I like working with data frames. I would like to construct a data frame that contains the range as a column and has artists for all three ranges. I will need to do additinal work to extract the genre data. Because I have three ranges, I will write a function, then call it, passing the string for each time range.  This could also probably be done via a for loop."
   ]
  },
  {
   "cell_type": "code",
   "execution_count": 11,
   "metadata": {},
   "outputs": [
    {
     "name": "stdout",
     "output_type": "stream",
     "text": [
      "['short_term', 'medium_term', 'long_term']\n"
     ]
    }
   ],
   "source": [
    "ranges = ['short_term','medium_term','long_term']\n",
    "print(ranges)"
   ]
  },
  {
   "cell_type": "code",
   "execution_count": 12,
   "metadata": {
    "scrolled": true
   },
   "outputs": [
    {
     "name": "stdout",
     "output_type": "stream",
     "text": [
      "short_term\n",
      "medium_term\n",
      "long_term\n",
      "done!\n"
     ]
    }
   ],
   "source": [
    "d = {}\n",
    "for term in ranges:\n",
    "    print(term)\n",
    "    spot_dict =  sp.current_user_top_artists(time_range=term, limit=50)\n",
    "    df = pd.DataFrame(spot_dict['items'])\n",
    "    df = df.assign(time_ranges = term)\n",
    "    d[term] = df\n",
    "print(\"done!\")"
   ]
  },
  {
   "cell_type": "markdown",
   "metadata": {},
   "source": [
    "Now, I have a dictionary that contains individual data frames for short term, medium term, and long term top artists."
   ]
  },
  {
   "cell_type": "code",
   "execution_count": 14,
   "metadata": {},
   "outputs": [
    {
     "data": {
      "text/html": [
       "<div>\n",
       "<style scoped>\n",
       "    .dataframe tbody tr th:only-of-type {\n",
       "        vertical-align: middle;\n",
       "    }\n",
       "\n",
       "    .dataframe tbody tr th {\n",
       "        vertical-align: top;\n",
       "    }\n",
       "\n",
       "    .dataframe thead th {\n",
       "        text-align: right;\n",
       "    }\n",
       "</style>\n",
       "<table border=\"1\" class=\"dataframe\">\n",
       "  <thead>\n",
       "    <tr style=\"text-align: right;\">\n",
       "      <th></th>\n",
       "      <th>external_urls</th>\n",
       "      <th>followers</th>\n",
       "      <th>genres</th>\n",
       "      <th>href</th>\n",
       "      <th>id</th>\n",
       "      <th>images</th>\n",
       "      <th>name</th>\n",
       "      <th>popularity</th>\n",
       "      <th>type</th>\n",
       "      <th>uri</th>\n",
       "      <th>time_ranges</th>\n",
       "    </tr>\n",
       "  </thead>\n",
       "  <tbody>\n",
       "    <tr>\n",
       "      <th>0</th>\n",
       "      <td>{'spotify': 'https://open.spotify.com/artist/0...</td>\n",
       "      <td>{'href': None, 'total': 322532}</td>\n",
       "      <td>[art pop, art rock, dance rock, electro, elect...</td>\n",
       "      <td>https://api.spotify.com/v1/artists/0dmPX6ovclg...</td>\n",
       "      <td>0dmPX6ovclgOy8WWJaFEUU</td>\n",
       "      <td>[{'height': 1232, 'url': 'https://i.scdn.co/im...</td>\n",
       "      <td>Kraftwerk</td>\n",
       "      <td>57</td>\n",
       "      <td>artist</td>\n",
       "      <td>spotify:artist:0dmPX6ovclgOy8WWJaFEUU</td>\n",
       "      <td>short_term</td>\n",
       "    </tr>\n",
       "    <tr>\n",
       "      <th>1</th>\n",
       "      <td>{'spotify': 'https://open.spotify.com/artist/0...</td>\n",
       "      <td>{'href': None, 'total': 33564}</td>\n",
       "      <td>[chillstep, drum and bass, liquid funk]</td>\n",
       "      <td>https://api.spotify.com/v1/artists/05lF0DUkLJq...</td>\n",
       "      <td>05lF0DUkLJqiW5o70SScyR</td>\n",
       "      <td>[{'height': 640, 'url': 'https://i.scdn.co/ima...</td>\n",
       "      <td>Hybrid Minds</td>\n",
       "      <td>56</td>\n",
       "      <td>artist</td>\n",
       "      <td>spotify:artist:05lF0DUkLJqiW5o70SScyR</td>\n",
       "      <td>short_term</td>\n",
       "    </tr>\n",
       "    <tr>\n",
       "      <th>2</th>\n",
       "      <td>{'spotify': 'https://open.spotify.com/artist/3...</td>\n",
       "      <td>{'href': None, 'total': 315906}</td>\n",
       "      <td>[adult standards, christmas, folk-pop, indie f...</td>\n",
       "      <td>https://api.spotify.com/v1/artists/3CIRif6ZAed...</td>\n",
       "      <td>3CIRif6ZAedT7kZSPvj2A4</td>\n",
       "      <td>[{'height': 640, 'url': 'https://i.scdn.co/ima...</td>\n",
       "      <td>She &amp; Him</td>\n",
       "      <td>68</td>\n",
       "      <td>artist</td>\n",
       "      <td>spotify:artist:3CIRif6ZAedT7kZSPvj2A4</td>\n",
       "      <td>short_term</td>\n",
       "    </tr>\n",
       "    <tr>\n",
       "      <th>3</th>\n",
       "      <td>{'spotify': 'https://open.spotify.com/artist/1...</td>\n",
       "      <td>{'href': None, 'total': 242685}</td>\n",
       "      <td>[german soundtrack, scorecore, soundtrack, vid...</td>\n",
       "      <td>https://api.spotify.com/v1/artists/1hCkSJcXREh...</td>\n",
       "      <td>1hCkSJcXREhrodeIHQdav8</td>\n",
       "      <td>[{'height': 640, 'url': 'https://i.scdn.co/ima...</td>\n",
       "      <td>Ramin Djawadi</td>\n",
       "      <td>74</td>\n",
       "      <td>artist</td>\n",
       "      <td>spotify:artist:1hCkSJcXREhrodeIHQdav8</td>\n",
       "      <td>short_term</td>\n",
       "    </tr>\n",
       "    <tr>\n",
       "      <th>4</th>\n",
       "      <td>{'spotify': 'https://open.spotify.com/artist/4...</td>\n",
       "      <td>{'href': None, 'total': 2162046}</td>\n",
       "      <td>[chamber pop, folk-pop, indie folk, indie pop,...</td>\n",
       "      <td>https://api.spotify.com/v1/artists/4LEiUm1SRbF...</td>\n",
       "      <td>4LEiUm1SRbFMgfqnQTwUbQ</td>\n",
       "      <td>[{'height': 640, 'url': 'https://i.scdn.co/ima...</td>\n",
       "      <td>Bon Iver</td>\n",
       "      <td>75</td>\n",
       "      <td>artist</td>\n",
       "      <td>spotify:artist:4LEiUm1SRbFMgfqnQTwUbQ</td>\n",
       "      <td>short_term</td>\n",
       "    </tr>\n",
       "    <tr>\n",
       "      <th>5</th>\n",
       "      <td>{'spotify': 'https://open.spotify.com/artist/6...</td>\n",
       "      <td>{'href': None, 'total': 2959691}</td>\n",
       "      <td>[outlaw country, traditional country]</td>\n",
       "      <td>https://api.spotify.com/v1/artists/6kACVPfCOnq...</td>\n",
       "      <td>6kACVPfCOnqzgfEF5ryl0x</td>\n",
       "      <td>[{'height': 640, 'url': 'https://i.scdn.co/ima...</td>\n",
       "      <td>Johnny Cash</td>\n",
       "      <td>79</td>\n",
       "      <td>artist</td>\n",
       "      <td>spotify:artist:6kACVPfCOnqzgfEF5ryl0x</td>\n",
       "      <td>short_term</td>\n",
       "    </tr>\n",
       "    <tr>\n",
       "      <th>6</th>\n",
       "      <td>{'spotify': 'https://open.spotify.com/artist/1...</td>\n",
       "      <td>{'href': None, 'total': 880199}</td>\n",
       "      <td>[alternative dance, big beat, breakbeat, elect...</td>\n",
       "      <td>https://api.spotify.com/v1/artists/1GhPHrq36VK...</td>\n",
       "      <td>1GhPHrq36VKCY3ucVaZCfo</td>\n",
       "      <td>[{'height': 640, 'url': 'https://i.scdn.co/ima...</td>\n",
       "      <td>The Chemical Brothers</td>\n",
       "      <td>65</td>\n",
       "      <td>artist</td>\n",
       "      <td>spotify:artist:1GhPHrq36VKCY3ucVaZCfo</td>\n",
       "      <td>short_term</td>\n",
       "    </tr>\n",
       "    <tr>\n",
       "      <th>7</th>\n",
       "      <td>{'spotify': 'https://open.spotify.com/artist/3...</td>\n",
       "      <td>{'href': None, 'total': 905592}</td>\n",
       "      <td>[electropop, indietronica, metropopolis, moder...</td>\n",
       "      <td>https://api.spotify.com/v1/artists/3CjlHNtplJy...</td>\n",
       "      <td>3CjlHNtplJyTf9npxaPl5w</td>\n",
       "      <td>[{'height': 640, 'url': 'https://i.scdn.co/ima...</td>\n",
       "      <td>CHVRCHES</td>\n",
       "      <td>70</td>\n",
       "      <td>artist</td>\n",
       "      <td>spotify:artist:3CjlHNtplJyTf9npxaPl5w</td>\n",
       "      <td>short_term</td>\n",
       "    </tr>\n",
       "    <tr>\n",
       "      <th>8</th>\n",
       "      <td>{'spotify': 'https://open.spotify.com/artist/5...</td>\n",
       "      <td>{'href': None, 'total': 323708}</td>\n",
       "      <td>[folk-pop, indie folk, indie pop, indie rock, ...</td>\n",
       "      <td>https://api.spotify.com/v1/artists/5yV1qdnmxyI...</td>\n",
       "      <td>5yV1qdnmxyIYiSFB02wpDj</td>\n",
       "      <td>[{'height': 596, 'url': 'https://i.scdn.co/ima...</td>\n",
       "      <td>The Postal Service</td>\n",
       "      <td>58</td>\n",
       "      <td>artist</td>\n",
       "      <td>spotify:artist:5yV1qdnmxyIYiSFB02wpDj</td>\n",
       "      <td>short_term</td>\n",
       "    </tr>\n",
       "    <tr>\n",
       "      <th>9</th>\n",
       "      <td>{'spotify': 'https://open.spotify.com/artist/5...</td>\n",
       "      <td>{'href': None, 'total': 58416}</td>\n",
       "      <td>[chamber pop, chillwave, experimental pop, fre...</td>\n",
       "      <td>https://api.spotify.com/v1/artists/5Z3IWpvwOvo...</td>\n",
       "      <td>5Z3IWpvwOvoaWodujHw7xh</td>\n",
       "      <td>[{'height': 640, 'url': 'https://i.scdn.co/ima...</td>\n",
       "      <td>Dan Deacon</td>\n",
       "      <td>45</td>\n",
       "      <td>artist</td>\n",
       "      <td>spotify:artist:5Z3IWpvwOvoaWodujHw7xh</td>\n",
       "      <td>short_term</td>\n",
       "    </tr>\n",
       "    <tr>\n",
       "      <th>10</th>\n",
       "      <td>{'spotify': 'https://open.spotify.com/artist/2...</td>\n",
       "      <td>{'href': None, 'total': 91248}</td>\n",
       "      <td>[brazilian electronica, brazilian house, micro...</td>\n",
       "      <td>https://api.spotify.com/v1/artists/27LGatz1m8a...</td>\n",
       "      <td>27LGatz1m8aJ7ZaVVWEphc</td>\n",
       "      <td>[{'height': 640, 'url': 'https://i.scdn.co/ima...</td>\n",
       "      <td>Gui Boratto</td>\n",
       "      <td>51</td>\n",
       "      <td>artist</td>\n",
       "      <td>spotify:artist:27LGatz1m8aJ7ZaVVWEphc</td>\n",
       "      <td>short_term</td>\n",
       "    </tr>\n",
       "    <tr>\n",
       "      <th>11</th>\n",
       "      <td>{'spotify': 'https://open.spotify.com/artist/2...</td>\n",
       "      <td>{'href': None, 'total': 403465}</td>\n",
       "      <td>[edm]</td>\n",
       "      <td>https://api.spotify.com/v1/artists/28j8lBWDdDS...</td>\n",
       "      <td>28j8lBWDdDSHSSt5oPlsX2</td>\n",
       "      <td>[{'height': 640, 'url': 'https://i.scdn.co/ima...</td>\n",
       "      <td>ZHU</td>\n",
       "      <td>71</td>\n",
       "      <td>artist</td>\n",
       "      <td>spotify:artist:28j8lBWDdDSHSSt5oPlsX2</td>\n",
       "      <td>short_term</td>\n",
       "    </tr>\n",
       "    <tr>\n",
       "      <th>12</th>\n",
       "      <td>{'spotify': 'https://open.spotify.com/artist/2...</td>\n",
       "      <td>{'href': None, 'total': 11546539}</td>\n",
       "      <td>[conscious hip hop, hip hop, pop rap, rap, wes...</td>\n",
       "      <td>https://api.spotify.com/v1/artists/2YZyLoL8N0W...</td>\n",
       "      <td>2YZyLoL8N0Wb9xBt1NhZWg</td>\n",
       "      <td>[{'height': 640, 'url': 'https://i.scdn.co/ima...</td>\n",
       "      <td>Kendrick Lamar</td>\n",
       "      <td>91</td>\n",
       "      <td>artist</td>\n",
       "      <td>spotify:artist:2YZyLoL8N0Wb9xBt1NhZWg</td>\n",
       "      <td>short_term</td>\n",
       "    </tr>\n",
       "    <tr>\n",
       "      <th>13</th>\n",
       "      <td>{'spotify': 'https://open.spotify.com/artist/0...</td>\n",
       "      <td>{'href': None, 'total': 89006}</td>\n",
       "      <td>[drum and bass, electronic, house, jump up, ju...</td>\n",
       "      <td>https://api.spotify.com/v1/artists/0bxHci3JIhh...</td>\n",
       "      <td>0bxHci3JIhhKA53n8rH3tT</td>\n",
       "      <td>[{'height': 640, 'url': 'https://i.scdn.co/ima...</td>\n",
       "      <td>High Contrast</td>\n",
       "      <td>58</td>\n",
       "      <td>artist</td>\n",
       "      <td>spotify:artist:0bxHci3JIhhKA53n8rH3tT</td>\n",
       "      <td>short_term</td>\n",
       "    </tr>\n",
       "  </tbody>\n",
       "</table>\n",
       "</div>"
      ],
      "text/plain": [
       "                                        external_urls  \\\n",
       "0   {'spotify': 'https://open.spotify.com/artist/0...   \n",
       "1   {'spotify': 'https://open.spotify.com/artist/0...   \n",
       "2   {'spotify': 'https://open.spotify.com/artist/3...   \n",
       "3   {'spotify': 'https://open.spotify.com/artist/1...   \n",
       "4   {'spotify': 'https://open.spotify.com/artist/4...   \n",
       "5   {'spotify': 'https://open.spotify.com/artist/6...   \n",
       "6   {'spotify': 'https://open.spotify.com/artist/1...   \n",
       "7   {'spotify': 'https://open.spotify.com/artist/3...   \n",
       "8   {'spotify': 'https://open.spotify.com/artist/5...   \n",
       "9   {'spotify': 'https://open.spotify.com/artist/5...   \n",
       "10  {'spotify': 'https://open.spotify.com/artist/2...   \n",
       "11  {'spotify': 'https://open.spotify.com/artist/2...   \n",
       "12  {'spotify': 'https://open.spotify.com/artist/2...   \n",
       "13  {'spotify': 'https://open.spotify.com/artist/0...   \n",
       "\n",
       "                            followers  \\\n",
       "0     {'href': None, 'total': 322532}   \n",
       "1      {'href': None, 'total': 33564}   \n",
       "2     {'href': None, 'total': 315906}   \n",
       "3     {'href': None, 'total': 242685}   \n",
       "4    {'href': None, 'total': 2162046}   \n",
       "5    {'href': None, 'total': 2959691}   \n",
       "6     {'href': None, 'total': 880199}   \n",
       "7     {'href': None, 'total': 905592}   \n",
       "8     {'href': None, 'total': 323708}   \n",
       "9      {'href': None, 'total': 58416}   \n",
       "10     {'href': None, 'total': 91248}   \n",
       "11    {'href': None, 'total': 403465}   \n",
       "12  {'href': None, 'total': 11546539}   \n",
       "13     {'href': None, 'total': 89006}   \n",
       "\n",
       "                                               genres  \\\n",
       "0   [art pop, art rock, dance rock, electro, elect...   \n",
       "1             [chillstep, drum and bass, liquid funk]   \n",
       "2   [adult standards, christmas, folk-pop, indie f...   \n",
       "3   [german soundtrack, scorecore, soundtrack, vid...   \n",
       "4   [chamber pop, folk-pop, indie folk, indie pop,...   \n",
       "5               [outlaw country, traditional country]   \n",
       "6   [alternative dance, big beat, breakbeat, elect...   \n",
       "7   [electropop, indietronica, metropopolis, moder...   \n",
       "8   [folk-pop, indie folk, indie pop, indie rock, ...   \n",
       "9   [chamber pop, chillwave, experimental pop, fre...   \n",
       "10  [brazilian electronica, brazilian house, micro...   \n",
       "11                                              [edm]   \n",
       "12  [conscious hip hop, hip hop, pop rap, rap, wes...   \n",
       "13  [drum and bass, electronic, house, jump up, ju...   \n",
       "\n",
       "                                                 href                      id  \\\n",
       "0   https://api.spotify.com/v1/artists/0dmPX6ovclg...  0dmPX6ovclgOy8WWJaFEUU   \n",
       "1   https://api.spotify.com/v1/artists/05lF0DUkLJq...  05lF0DUkLJqiW5o70SScyR   \n",
       "2   https://api.spotify.com/v1/artists/3CIRif6ZAed...  3CIRif6ZAedT7kZSPvj2A4   \n",
       "3   https://api.spotify.com/v1/artists/1hCkSJcXREh...  1hCkSJcXREhrodeIHQdav8   \n",
       "4   https://api.spotify.com/v1/artists/4LEiUm1SRbF...  4LEiUm1SRbFMgfqnQTwUbQ   \n",
       "5   https://api.spotify.com/v1/artists/6kACVPfCOnq...  6kACVPfCOnqzgfEF5ryl0x   \n",
       "6   https://api.spotify.com/v1/artists/1GhPHrq36VK...  1GhPHrq36VKCY3ucVaZCfo   \n",
       "7   https://api.spotify.com/v1/artists/3CjlHNtplJy...  3CjlHNtplJyTf9npxaPl5w   \n",
       "8   https://api.spotify.com/v1/artists/5yV1qdnmxyI...  5yV1qdnmxyIYiSFB02wpDj   \n",
       "9   https://api.spotify.com/v1/artists/5Z3IWpvwOvo...  5Z3IWpvwOvoaWodujHw7xh   \n",
       "10  https://api.spotify.com/v1/artists/27LGatz1m8a...  27LGatz1m8aJ7ZaVVWEphc   \n",
       "11  https://api.spotify.com/v1/artists/28j8lBWDdDS...  28j8lBWDdDSHSSt5oPlsX2   \n",
       "12  https://api.spotify.com/v1/artists/2YZyLoL8N0W...  2YZyLoL8N0Wb9xBt1NhZWg   \n",
       "13  https://api.spotify.com/v1/artists/0bxHci3JIhh...  0bxHci3JIhhKA53n8rH3tT   \n",
       "\n",
       "                                               images                   name  \\\n",
       "0   [{'height': 1232, 'url': 'https://i.scdn.co/im...              Kraftwerk   \n",
       "1   [{'height': 640, 'url': 'https://i.scdn.co/ima...           Hybrid Minds   \n",
       "2   [{'height': 640, 'url': 'https://i.scdn.co/ima...              She & Him   \n",
       "3   [{'height': 640, 'url': 'https://i.scdn.co/ima...          Ramin Djawadi   \n",
       "4   [{'height': 640, 'url': 'https://i.scdn.co/ima...               Bon Iver   \n",
       "5   [{'height': 640, 'url': 'https://i.scdn.co/ima...            Johnny Cash   \n",
       "6   [{'height': 640, 'url': 'https://i.scdn.co/ima...  The Chemical Brothers   \n",
       "7   [{'height': 640, 'url': 'https://i.scdn.co/ima...               CHVRCHES   \n",
       "8   [{'height': 596, 'url': 'https://i.scdn.co/ima...     The Postal Service   \n",
       "9   [{'height': 640, 'url': 'https://i.scdn.co/ima...             Dan Deacon   \n",
       "10  [{'height': 640, 'url': 'https://i.scdn.co/ima...            Gui Boratto   \n",
       "11  [{'height': 640, 'url': 'https://i.scdn.co/ima...                    ZHU   \n",
       "12  [{'height': 640, 'url': 'https://i.scdn.co/ima...         Kendrick Lamar   \n",
       "13  [{'height': 640, 'url': 'https://i.scdn.co/ima...          High Contrast   \n",
       "\n",
       "    popularity    type                                    uri time_ranges  \n",
       "0           57  artist  spotify:artist:0dmPX6ovclgOy8WWJaFEUU  short_term  \n",
       "1           56  artist  spotify:artist:05lF0DUkLJqiW5o70SScyR  short_term  \n",
       "2           68  artist  spotify:artist:3CIRif6ZAedT7kZSPvj2A4  short_term  \n",
       "3           74  artist  spotify:artist:1hCkSJcXREhrodeIHQdav8  short_term  \n",
       "4           75  artist  spotify:artist:4LEiUm1SRbFMgfqnQTwUbQ  short_term  \n",
       "5           79  artist  spotify:artist:6kACVPfCOnqzgfEF5ryl0x  short_term  \n",
       "6           65  artist  spotify:artist:1GhPHrq36VKCY3ucVaZCfo  short_term  \n",
       "7           70  artist  spotify:artist:3CjlHNtplJyTf9npxaPl5w  short_term  \n",
       "8           58  artist  spotify:artist:5yV1qdnmxyIYiSFB02wpDj  short_term  \n",
       "9           45  artist  spotify:artist:5Z3IWpvwOvoaWodujHw7xh  short_term  \n",
       "10          51  artist  spotify:artist:27LGatz1m8aJ7ZaVVWEphc  short_term  \n",
       "11          71  artist  spotify:artist:28j8lBWDdDSHSSt5oPlsX2  short_term  \n",
       "12          91  artist  spotify:artist:2YZyLoL8N0Wb9xBt1NhZWg  short_term  \n",
       "13          58  artist  spotify:artist:0bxHci3JIhhKA53n8rH3tT  short_term  "
      ]
     },
     "execution_count": 14,
     "metadata": {},
     "output_type": "execute_result"
    }
   ],
   "source": [
    "d['short_term']"
   ]
  },
  {
   "cell_type": "markdown",
   "metadata": {},
   "source": [
    "One of the quantitative metrics in this data set is popularity. It would be interesting to see how the top artists compare on popularity, which would allow me to see if my husband tends to listen to more or less mainstream artists. "
   ]
  },
  {
   "cell_type": "code",
   "execution_count": 17,
   "metadata": {},
   "outputs": [],
   "source": [
    "def artist_plot(term):\n",
    "    df = d[term]\n",
    "    plt.bar(df['name'],df['popularity'])\n",
    "    plt.xticks(rotation=90)\n",
    "    plt.title(\"Overall Popularity of Top Artists\")\n",
    "    plt.show()"
   ]
  },
  {
   "cell_type": "code",
   "execution_count": 16,
   "metadata": {
    "scrolled": true
   },
   "outputs": [
    {
     "data": {
      "image/png": "[encoded data removed]",
      "text/plain": [
       "<Figure size 432x288 with 1 Axes>"
      ]
     },
     "metadata": {
      "needs_background": "light"
     },
     "output_type": "display_data"
    }
   ],
   "source": [
    "artist_plot('short_term')"
   ]
  },
  {
   "cell_type": "markdown",
   "metadata": {},
   "source": [
    "The most popular artist my husband has listened to recently (i.e. short-term) is Kendrick Lamar.  The least popular was Dan Deacon. "
   ]
  },
  {
   "cell_type": "code",
   "execution_count": 18,
   "metadata": {
    "scrolled": true
   },
   "outputs": [
    {
     "data": {
      "image/png": "[encoded data removed]",
      "text/plain": [
       "<Figure size 432x288 with 1 Axes>"
      ]
     },
     "metadata": {
      "needs_background": "light"
     },
     "output_type": "display_data"
    }
   ],
   "source": [
    "artist_plot('medium_term')"
   ]
  },
  {
   "cell_type": "code",
   "execution_count": 19,
   "metadata": {
    "scrolled": true
   },
   "outputs": [
    {
     "data": {
      "image/png": "[encoded data removed]",
      "text/plain": [
       "<Figure size 432x288 with 1 Axes>"
      ]
     },
     "metadata": {
      "needs_background": "light"
     },
     "output_type": "display_data"
    }
   ],
   "source": [
    "artist_plot('long_term')"
   ]
  },
  {
   "cell_type": "code",
   "execution_count": 22,
   "metadata": {},
   "outputs": [],
   "source": [
    "# Now i want to work with the genre data \n",
    "# i need to pick a time range from the data frame dictionary as a key to pull back the value (data frame)\n",
    "\n",
    "df_s = d['short_term']"
   ]
  },
  {
   "cell_type": "code",
   "execution_count": 23,
   "metadata": {
    "scrolled": true
   },
   "outputs": [
    {
     "name": "stdout",
     "output_type": "stream",
     "text": [
      "0     [art pop, art rock, dance rock, electro, elect...\n",
      "1               [chillstep, drum and bass, liquid funk]\n",
      "2     [adult standards, christmas, folk-pop, indie f...\n",
      "3     [german soundtrack, scorecore, soundtrack, vid...\n",
      "4     [chamber pop, folk-pop, indie folk, indie pop,...\n",
      "5                 [outlaw country, traditional country]\n",
      "6     [alternative dance, big beat, breakbeat, elect...\n",
      "7     [electropop, indietronica, metropopolis, moder...\n",
      "8     [folk-pop, indie folk, indie pop, indie rock, ...\n",
      "9     [chamber pop, chillwave, experimental pop, fre...\n",
      "10    [brazilian electronica, brazilian house, micro...\n",
      "11                                                [edm]\n",
      "12    [conscious hip hop, hip hop, pop rap, rap, wes...\n",
      "13    [drum and bass, electronic, house, jump up, ju...\n",
      "Name: genres, dtype: object\n"
     ]
    }
   ],
   "source": [
    "print(df_s.genres)"
   ]
  },
  {
   "cell_type": "markdown",
   "metadata": {},
   "source": [
    "I am very proud of the for loop below. It's one of the first successful ones I've written. I am new to Python and I didn't realize that not only would there be a difference in syntax (from R, which I had been using previously), it seems like there is a difference in workflow (i.e. processing small bits of data fast using for loops) and data structures (e.g. lists, dictionaries).  It's exciting to learn something new. The for loop below prints each genre for the list of genres for each artist."
   ]
  },
  {
   "cell_type": "code",
   "execution_count": 24,
   "metadata": {
    "scrolled": true
   },
   "outputs": [
    {
     "name": "stdout",
     "output_type": "stream",
     "text": [
      "art pop\n",
      "art rock\n",
      "dance rock\n",
      "electro\n",
      "electronic\n",
      "german techno\n",
      "krautrock\n",
      "new romantic\n",
      "new wave\n",
      "synthpop\n",
      "chillstep\n",
      "drum and bass\n",
      "liquid funk\n",
      "adult standards\n",
      "christmas\n",
      "folk-pop\n",
      "indie folk\n",
      "indie pop\n",
      "lilith\n",
      "german soundtrack\n",
      "scorecore\n",
      "soundtrack\n",
      "video game music\n",
      "chamber pop\n",
      "folk-pop\n",
      "indie folk\n",
      "indie pop\n",
      "melancholia\n",
      "slow core\n",
      "stomp and holler\n",
      "outlaw country\n",
      "traditional country\n",
      "alternative dance\n",
      "big beat\n",
      "breakbeat\n",
      "electronic\n",
      "new rave\n",
      "trip hop\n",
      "electropop\n",
      "indietronica\n",
      "metropopolis\n",
      "modern rock\n",
      "neo-synthpop\n",
      "shimmer pop\n",
      "folk-pop\n",
      "indie folk\n",
      "indie pop\n",
      "indie rock\n",
      "indietronica\n",
      "modern rock\n",
      "stomp and holler\n",
      "chamber pop\n",
      "chillwave\n",
      "experimental pop\n",
      "freak folk\n",
      "indie pop\n",
      "indietronica\n",
      "neo-psychedelic\n",
      "noise pop\n",
      "noise rock\n",
      "brazilian electronica\n",
      "brazilian house\n",
      "microhouse\n",
      "minimal techno\n",
      "tech house\n",
      "edm\n",
      "conscious hip hop\n",
      "hip hop\n",
      "pop rap\n",
      "rap\n",
      "west coast rap\n",
      "drum and bass\n",
      "electronic\n",
      "house\n",
      "jump up\n",
      "jungle\n",
      "liquid funk\n",
      "uk garage\n"
     ]
    }
   ],
   "source": [
    "for artist in df_s.genres:\n",
    "    for genre in artist:\n",
    "        print(genre) "
   ]
  },
  {
   "cell_type": "markdown",
   "metadata": {},
   "source": [
    "Here are the top genres in the short term!  \n",
    "Some of these genre names are hiliarious. \"Freak Folk\" is my favorite."
   ]
  },
  {
   "cell_type": "code",
   "execution_count": 20,
   "metadata": {},
   "outputs": [
    {
     "name": "stdout",
     "output_type": "stream",
     "text": [
      "that finished\n"
     ]
    }
   ],
   "source": [
    "# write to csv so I can work offline \n",
    "df.to_csv(\"short-term-artists\", sep=',')\n",
    "print(\"that finished\")"
   ]
  }
 ],
 "metadata": {
  "kernelspec": {
   "display_name": "Python 3",
   "language": "python",
   "name": "python3"
  },
  "language_info": {
   "codemirror_mode": {
    "name": "ipython",
    "version": 3
   },
   "file_extension": ".py",
   "mimetype": "text/x-python",
   "name": "python",
   "nbconvert_exporter": "python",
   "pygments_lexer": "ipython3",
   "version": "3.7.0"
  }
 },
 "nbformat": 4,
 "nbformat_minor": 2
}
